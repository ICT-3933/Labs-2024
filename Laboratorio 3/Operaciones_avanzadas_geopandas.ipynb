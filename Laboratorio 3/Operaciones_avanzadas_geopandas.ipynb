{
 "cells": [
  {
   "cell_type": "markdown",
   "metadata": {},
   "source": [
    "# Operaciones avanzadas con GeoPandas\n",
    "\n",
    "- Creación de nuevos campos\n",
    "- Colorear mapa en base a valores\n",
    "- Operaciones espaciales"
   ]
  },
  {
   "cell_type": "code",
   "execution_count": 1,
   "metadata": {},
   "outputs": [],
   "source": [
    "import geopandas as gpd\n",
    "\n",
    "shape_folder = 'shapes'\n",
    "shp_distritos = '/distritos censales/Distritos Censales con GSE.shp'\n",
    "shp_salud = '/equipamiento de salud/Equipamiento Salud.shp'\n",
    "shp_metro = '/metro/metro.shp'\n",
    "\n",
    "distritos = gpd.read_file(shape_folder + shp_distritos)\n",
    "salud = gpd.read_file(shape_folder + shp_salud)\n",
    "metro = gpd.read_file(shape_folder + shp_metro)"
   ]
  },
  {
   "cell_type": "code",
   "execution_count": null,
   "metadata": {},
   "outputs": [],
   "source": []
  },
  {
   "cell_type": "markdown",
   "metadata": {},
   "source": [
    "# Creación de nuevos campos\n",
    "`gdf.apply()`"
   ]
  },
  {
   "cell_type": "code",
   "execution_count": null,
   "metadata": {},
   "outputs": [],
   "source": []
  },
  {
   "cell_type": "markdown",
   "metadata": {},
   "source": [
    "# Colorear mapa en base a valores"
   ]
  },
  {
   "cell_type": "code",
   "execution_count": null,
   "metadata": {},
   "outputs": [],
   "source": []
  },
  {
   "cell_type": "markdown",
   "metadata": {},
   "source": [
    "# Operaciones espaciales\n",
    "[Overlay](https://geopandas.org/set_operations.html)\n",
    "[sjoin](https://geopandas.org/reference/geopandas.sjoin.html)"
   ]
  },
  {
   "cell_type": "code",
   "execution_count": null,
   "metadata": {},
   "outputs": [],
   "source": []
  }
 ],
 "metadata": {
  "kernelspec": {
   "display_name": "Python 3",
   "language": "python",
   "name": "python3"
  },
  "language_info": {
   "codemirror_mode": {
    "name": "ipython",
    "version": 3
   },
   "file_extension": ".py",
   "mimetype": "text/x-python",
   "name": "python",
   "nbconvert_exporter": "python",
   "pygments_lexer": "ipython3",
   "version": "3.8.5"
  }
 },
 "nbformat": 4,
 "nbformat_minor": 4
}
