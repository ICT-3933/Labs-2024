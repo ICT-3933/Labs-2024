{
 "cells": [
  {
   "cell_type": "markdown",
   "metadata": {},
   "source": [
    "# Funciones básicas con GeoPandas\n",
    "\n",
    "Este cuaderno resume las funciones básicas que vamos a usar en **GeoPandas**. En concreto vamos a revisar la siguiente lista de funciones:\n",
    "\n",
    "1. Abrir un archivo Shape (SHP)\n",
    "1. Visualizar los datos del DBF\n",
    "1. Acceder a la información del DBF\n",
    "1. Visualizar las figuras del SHP\n",
    "1. Guardar nuestro trabajo\n",
    "\n",
    "Para el resto de consultas o funciones de la librería de **Pandas** y **GeoPandas**, pueden visitar la documentación oficial de cada librería:\n",
    "\n",
    "- [Documentación de Pandas](https://pandas.pydata.org/docs/)\n",
    "- [Documentación de GeoPandas](https://geopandas.org)\n",
    "\n",
    "Para todos los ejemplos, las librerías serán importadas:\n",
    "\n",
    "```python\n",
    "import pandas as pd\n",
    "import geopandas as gpd\n",
    "```"
   ]
  },
  {
   "cell_type": "markdown",
   "metadata": {},
   "source": [
    "## Importación"
   ]
  },
  {
   "cell_type": "code",
   "execution_count": 1,
   "metadata": {},
   "outputs": [],
   "source": []
  },
  {
   "cell_type": "markdown",
   "metadata": {},
   "source": [
    "## Abrir un archivo Shape (SHP)\n",
    "\n",
    "`gpd.read_file()`"
   ]
  },
  {
   "cell_type": "code",
   "execution_count": null,
   "metadata": {},
   "outputs": [],
   "source": []
  },
  {
   "cell_type": "markdown",
   "metadata": {},
   "source": [
    "## Visualizar los datos del DBF\n",
    "`gdf.head()`\n",
    "`gdf.tail()`"
   ]
  },
  {
   "cell_type": "code",
   "execution_count": null,
   "metadata": {},
   "outputs": [],
   "source": []
  },
  {
   "cell_type": "markdown",
   "metadata": {},
   "source": [
    "## Acceder a la información del DBF\n",
    "`gdf.loc[]`"
   ]
  },
  {
   "cell_type": "code",
   "execution_count": null,
   "metadata": {},
   "outputs": [],
   "source": []
  },
  {
   "cell_type": "markdown",
   "metadata": {},
   "source": [
    "## Visualizar las figuras del SHP\n",
    "`gdf.plot()`"
   ]
  },
  {
   "cell_type": "code",
   "execution_count": null,
   "metadata": {},
   "outputs": [],
   "source": []
  },
  {
   "cell_type": "markdown",
   "metadata": {},
   "source": [
    "## Guardar nuestro trabajo\n",
    "`to_file()`"
   ]
  },
  {
   "cell_type": "code",
   "execution_count": 47,
   "metadata": {},
   "outputs": [],
   "source": []
  }
 ],
 "metadata": {
  "kernelspec": {
   "display_name": "Python 3",
   "language": "python",
   "name": "python3"
  },
  "language_info": {
   "codemirror_mode": {
    "name": "ipython",
    "version": 3
   },
   "file_extension": ".py",
   "mimetype": "text/x-python",
   "name": "python",
   "nbconvert_exporter": "python",
   "pygments_lexer": "ipython3",
   "version": "3.8.5"
  }
 },
 "nbformat": 4,
 "nbformat_minor": 4
}
