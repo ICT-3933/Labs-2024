{
 "cells": [
  {
   "cell_type": "markdown",
   "metadata": {},
   "source": [
    "# Ejemplo de simulación\n",
    "\n",
    "Del Laboratorio anterior, dejamos creados nuestros modelos"
   ]
  },
  {
   "cell_type": "code",
   "execution_count": 1,
   "metadata": {},
   "outputs": [],
   "source": [
    "import geopandas as gpd\n",
    "import biogeme.database as db\n",
    "import biogeme.biogeme as bio\n",
    "import biogeme.models as models\n",
    "import biogeme.results as res\n",
    "from biogeme.expressions import Beta, DefineVariable\n",
    "import random as rd"
   ]
  },
  {
   "cell_type": "markdown",
   "metadata": {},
   "source": [
    "```python\n",
    "logprob = models.loglogit(V, av, choice)\n",
    "bio.WEIGHT = 'Sup'\n",
    "biogeme  = bio.BIOGEME(database,logprob)\n",
    "biogeme.modelName = \"choice\"\n",
    "results = biogeme.estimate()\n",
    "```"
   ]
  },
  {
   "cell_type": "markdown",
   "metadata": {},
   "source": [
    "## Obteniendo los betas\n",
    "\n",
    "Pueden directamente obtenerlos de la variable `results` con `results.getBetaValues()`. En este caso vamos a cargar directamente los archivos generados cuando ejecuten el Laboratorio anterior."
   ]
  },
  {
   "cell_type": "code",
   "execution_count": 2,
   "metadata": {},
   "outputs": [],
   "source": [
    "results_bid = res.bioResults(pickleFile = 'Ejemplo_bid.pickle')\n",
    "results_choice = res.bioResults(pickleFile = 'choice.pickle')"
   ]
  },
  {
   "cell_type": "code",
   "execution_count": 3,
   "metadata": {},
   "outputs": [
    {
     "data": {
      "text/plain": [
       "{'B_acc_op_cam_H2': 0.0018897931812969966,\n",
       " 'B_acc_op_cam_H3': 0.0028537011909676377,\n",
       " 'B_acc_op_veh_H2': -0.015682441051976963,\n",
       " 'B_acc_op_veh_H3': -0.01725222279796192,\n",
       " 'B_utilidad_H2': 56.18815976742222,\n",
       " 'B_utilidad_H3': 58.735445957837996}"
      ]
     },
     "execution_count": 3,
     "metadata": {},
     "output_type": "execute_result"
    }
   ],
   "source": [
    "results_bid.getBetaValues()"
   ]
  },
  {
   "cell_type": "code",
   "execution_count": 7,
   "metadata": {},
   "outputs": [],
   "source": [
    "betas_choice = results_choice.getBetaValues()"
   ]
  },
  {
   "cell_type": "markdown",
   "metadata": {},
   "source": [
    "## Ciudad en t=0 (2020)"
   ]
  },
  {
   "cell_type": "code",
   "execution_count": 6,
   "metadata": {},
   "outputs": [
    {
     "data": {
      "text/html": [
       "<div>\n",
       "<style scoped>\n",
       "    .dataframe tbody tr th:only-of-type {\n",
       "        vertical-align: middle;\n",
       "    }\n",
       "\n",
       "    .dataframe tbody tr th {\n",
       "        vertical-align: top;\n",
       "    }\n",
       "\n",
       "    .dataframe thead th {\n",
       "        text-align: right;\n",
       "    }\n",
       "</style>\n",
       "<table border=\"1\" class=\"dataframe\">\n",
       "  <thead>\n",
       "    <tr style=\"text-align: right;\">\n",
       "      <th></th>\n",
       "      <th>cell</th>\n",
       "      <th>area</th>\n",
       "      <th>m2_op</th>\n",
       "      <th>acc_op_cam</th>\n",
       "      <th>acc_op_veh</th>\n",
       "      <th>geometry</th>\n",
       "      <th>precio_m2</th>\n",
       "    </tr>\n",
       "  </thead>\n",
       "  <tbody>\n",
       "    <tr>\n",
       "      <th>0</th>\n",
       "      <td>1</td>\n",
       "      <td>25980.762114</td>\n",
       "      <td>1.496370</td>\n",
       "      <td>21.999698</td>\n",
       "      <td>3261.594956</td>\n",
       "      <td>POLYGON ((0.000 1000.000, 100.000 1000.000, 15...</td>\n",
       "      <td>11334.423647</td>\n",
       "    </tr>\n",
       "    <tr>\n",
       "      <th>1</th>\n",
       "      <td>2</td>\n",
       "      <td>25980.762114</td>\n",
       "      <td>0.293320</td>\n",
       "      <td>20.939344</td>\n",
       "      <td>3283.642413</td>\n",
       "      <td>POLYGON ((0.000 826.795, 100.000 826.795, 150....</td>\n",
       "      <td>2694.915215</td>\n",
       "    </tr>\n",
       "    <tr>\n",
       "      <th>2</th>\n",
       "      <td>3</td>\n",
       "      <td>25980.762114</td>\n",
       "      <td>3.416329</td>\n",
       "      <td>25.762190</td>\n",
       "      <td>3294.544635</td>\n",
       "      <td>POLYGON ((0.000 653.590, 100.000 653.590, 150....</td>\n",
       "      <td>8204.780326</td>\n",
       "    </tr>\n",
       "    <tr>\n",
       "      <th>3</th>\n",
       "      <td>4</td>\n",
       "      <td>25980.762114</td>\n",
       "      <td>16.222386</td>\n",
       "      <td>47.757336</td>\n",
       "      <td>3293.653747</td>\n",
       "      <td>POLYGON ((0.000 480.385, 100.000 480.385, 150....</td>\n",
       "      <td>1754.156902</td>\n",
       "    </tr>\n",
       "    <tr>\n",
       "      <th>4</th>\n",
       "      <td>5</td>\n",
       "      <td>25980.762114</td>\n",
       "      <td>8.038769</td>\n",
       "      <td>51.997028</td>\n",
       "      <td>3280.187080</td>\n",
       "      <td>POLYGON ((0.000 307.180, 100.000 307.180, 150....</td>\n",
       "      <td>4745.553213</td>\n",
       "    </tr>\n",
       "  </tbody>\n",
       "</table>\n",
       "</div>"
      ],
      "text/plain": [
       "   cell          area      m2_op  acc_op_cam   acc_op_veh  \\\n",
       "0     1  25980.762114   1.496370   21.999698  3261.594956   \n",
       "1     2  25980.762114   0.293320   20.939344  3283.642413   \n",
       "2     3  25980.762114   3.416329   25.762190  3294.544635   \n",
       "3     4  25980.762114  16.222386   47.757336  3293.653747   \n",
       "4     5  25980.762114   8.038769   51.997028  3280.187080   \n",
       "\n",
       "                                            geometry     precio_m2  \n",
       "0  POLYGON ((0.000 1000.000, 100.000 1000.000, 15...  11334.423647  \n",
       "1  POLYGON ((0.000 826.795, 100.000 826.795, 150....   2694.915215  \n",
       "2  POLYGON ((0.000 653.590, 100.000 653.590, 150....   8204.780326  \n",
       "3  POLYGON ((0.000 480.385, 100.000 480.385, 150....   1754.156902  \n",
       "4  POLYGON ((0.000 307.180, 100.000 307.180, 150....   4745.553213  "
      ]
     },
     "execution_count": 6,
     "metadata": {},
     "output_type": "execute_result"
    }
   ],
   "source": [
    "ciudad_base = gpd.read_file('ciudad_sintetica.shp')\n",
    "ciudad_base['precio_m2'] = ciudad_base.apply(lambda row: 10**5*rd.expovariate(row['acc_op_cam'] + row['acc_op_veh']/(ciudad_base['acc_op_cam'].sum()+ciudad_base['acc_op_veh'].sum())), axis = 1)\n",
    "ciudad_base.head()"
   ]
  },
  {
   "cell_type": "markdown",
   "metadata": {},
   "source": [
    "## Funciones para determinar las utilidades/disposiciones al pago"
   ]
  },
  {
   "cell_type": "code",
   "execution_count": 9,
   "metadata": {},
   "outputs": [],
   "source": [
    "def utility(row, betas, variables, sup): #variables = ['acc_op_cam', 'acc_op_veh', 'precio_m2']\n",
    "    ut = 0\n",
    "    for v in variables:\n",
    "        ut += row[v]*betas[f'B_{v}']\n",
    "    ut += sup*betas['B_Sup']\n",
    "    return ut\n",
    "\n",
    "var = ['acc_op_cam', 'acc_op_veh', 'precio_m2']\n",
    "sup = 50\n",
    "ciudad_base['U_H1'] = ciudad_base.apply(lambda row: utility(row, betas_choice, var, sup), axis = 1)"
   ]
  },
  {
   "cell_type": "code",
   "execution_count": 10,
   "metadata": {},
   "outputs": [
    {
     "data": {
      "text/html": [
       "<div>\n",
       "<style scoped>\n",
       "    .dataframe tbody tr th:only-of-type {\n",
       "        vertical-align: middle;\n",
       "    }\n",
       "\n",
       "    .dataframe tbody tr th {\n",
       "        vertical-align: top;\n",
       "    }\n",
       "\n",
       "    .dataframe thead th {\n",
       "        text-align: right;\n",
       "    }\n",
       "</style>\n",
       "<table border=\"1\" class=\"dataframe\">\n",
       "  <thead>\n",
       "    <tr style=\"text-align: right;\">\n",
       "      <th></th>\n",
       "      <th>cell</th>\n",
       "      <th>area</th>\n",
       "      <th>m2_op</th>\n",
       "      <th>acc_op_cam</th>\n",
       "      <th>acc_op_veh</th>\n",
       "      <th>geometry</th>\n",
       "      <th>precio_m2</th>\n",
       "      <th>U_H1</th>\n",
       "    </tr>\n",
       "  </thead>\n",
       "  <tbody>\n",
       "    <tr>\n",
       "      <th>0</th>\n",
       "      <td>1</td>\n",
       "      <td>25980.762114</td>\n",
       "      <td>1.496370</td>\n",
       "      <td>21.999698</td>\n",
       "      <td>3261.594956</td>\n",
       "      <td>POLYGON ((0.000 1000.000, 100.000 1000.000, 15...</td>\n",
       "      <td>11334.423647</td>\n",
       "      <td>-3.271379</td>\n",
       "    </tr>\n",
       "    <tr>\n",
       "      <th>1</th>\n",
       "      <td>2</td>\n",
       "      <td>25980.762114</td>\n",
       "      <td>0.293320</td>\n",
       "      <td>20.939344</td>\n",
       "      <td>3283.642413</td>\n",
       "      <td>POLYGON ((0.000 826.795, 100.000 826.795, 150....</td>\n",
       "      <td>2694.915215</td>\n",
       "      <td>-2.855424</td>\n",
       "    </tr>\n",
       "    <tr>\n",
       "      <th>2</th>\n",
       "      <td>3</td>\n",
       "      <td>25980.762114</td>\n",
       "      <td>3.416329</td>\n",
       "      <td>25.762190</td>\n",
       "      <td>3294.544635</td>\n",
       "      <td>POLYGON ((0.000 653.590, 100.000 653.590, 150....</td>\n",
       "      <td>8204.780326</td>\n",
       "      <td>-3.139988</td>\n",
       "    </tr>\n",
       "    <tr>\n",
       "      <th>3</th>\n",
       "      <td>4</td>\n",
       "      <td>25980.762114</td>\n",
       "      <td>16.222386</td>\n",
       "      <td>47.757336</td>\n",
       "      <td>3293.653747</td>\n",
       "      <td>POLYGON ((0.000 480.385, 100.000 480.385, 150....</td>\n",
       "      <td>1754.156902</td>\n",
       "      <td>-2.807065</td>\n",
       "    </tr>\n",
       "    <tr>\n",
       "      <th>4</th>\n",
       "      <td>5</td>\n",
       "      <td>25980.762114</td>\n",
       "      <td>8.038769</td>\n",
       "      <td>51.997028</td>\n",
       "      <td>3280.187080</td>\n",
       "      <td>POLYGON ((0.000 307.180, 100.000 307.180, 150....</td>\n",
       "      <td>4745.553213</td>\n",
       "      <td>-2.944895</td>\n",
       "    </tr>\n",
       "  </tbody>\n",
       "</table>\n",
       "</div>"
      ],
      "text/plain": [
       "   cell          area      m2_op  acc_op_cam   acc_op_veh  \\\n",
       "0     1  25980.762114   1.496370   21.999698  3261.594956   \n",
       "1     2  25980.762114   0.293320   20.939344  3283.642413   \n",
       "2     3  25980.762114   3.416329   25.762190  3294.544635   \n",
       "3     4  25980.762114  16.222386   47.757336  3293.653747   \n",
       "4     5  25980.762114   8.038769   51.997028  3280.187080   \n",
       "\n",
       "                                            geometry     precio_m2      U_H1  \n",
       "0  POLYGON ((0.000 1000.000, 100.000 1000.000, 15...  11334.423647 -3.271379  \n",
       "1  POLYGON ((0.000 826.795, 100.000 826.795, 150....   2694.915215 -2.855424  \n",
       "2  POLYGON ((0.000 653.590, 100.000 653.590, 150....   8204.780326 -3.139988  \n",
       "3  POLYGON ((0.000 480.385, 100.000 480.385, 150....   1754.156902 -2.807065  \n",
       "4  POLYGON ((0.000 307.180, 100.000 307.180, 150....   4745.553213 -2.944895  "
      ]
     },
     "execution_count": 10,
     "metadata": {},
     "output_type": "execute_result"
    }
   ],
   "source": [
    "ciudad_base.head()"
   ]
  },
  {
   "cell_type": "code",
   "execution_count": null,
   "metadata": {},
   "outputs": [],
   "source": []
  }
 ],
 "metadata": {
  "kernelspec": {
   "display_name": "Python 3",
   "language": "python",
   "name": "python3"
  },
  "language_info": {
   "codemirror_mode": {
    "name": "ipython",
    "version": 3
   },
   "file_extension": ".py",
   "mimetype": "text/x-python",
   "name": "python",
   "nbconvert_exporter": "python",
   "pygments_lexer": "ipython3",
   "version": "3.8.5"
  }
 },
 "nbformat": 4,
 "nbformat_minor": 4
}
